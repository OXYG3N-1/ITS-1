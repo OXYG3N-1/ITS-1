{
 "cells": [
  {
   "cell_type": "markdown",
   "metadata": {},
   "source": [
    "### Description\n",
    "\n",
    "In this project, you will write a computer code to generate a random maze using a recursive algorithm. You will also write a code to find a path between two points in a given maze.\n",
    "\n",
    "The integer `n` specifies the size of the `n`-by-`n` array of cells in the maze.\n",
    "\n",
    "The horizontal and the vertical *interior* walls of the maze are described by the arrays:\n",
    "\n",
    "- `H`, Bool array of size `n`-by-`n-1`\n",
    "- `V`, Bool array of size `n-1`-by-`n`\n",
    "\n",
    "These arrays specify if there is a wall or not between two neighboring cells.\n",
    "\n",
    "An example is given below:"
   ]
  },
  {
   "cell_type": "code",
   "execution_count": null,
   "metadata": {},
   "outputs": [],
   "source": [
    "import numpy as np\n",
    "import matplotlib.pyplot as plt\n",
    "import random"
   ]
  },
  {
   "cell_type": "code",
   "execution_count": 574,
   "metadata": {},
   "outputs": [],
   "source": [
    "H = [[1, 1, 0, 0, 0], [1, 0, 1, 0, 0], [0, 1, 1, 0, 0], [1, 1, 1, 0, 1], [0, 1, 0, 1, 1], [1, 0, 0, 0, 0]]\n",
    "V = [[1, 0, 1, 1, 1, 0], [0, 1, 0, 0, 1, 1], [0, 0, 0, 0, 1, 0], [0, 1, 0, 1, 0, 0], [0, 0, 1, 0, 1, 0]]"
   ]
  },
  {
   "cell_type": "code",
   "execution_count": 575,
   "metadata": {},
   "outputs": [],
   "source": [
    "def plot_maze(H,V):\n",
    "    plt.axis('off')\n",
    "    plt.axis('equal')\n",
    "    n = np.size(H,0)\n",
    "    plt.plot([0,n,n,0,0], [0,0,n,n,0], color=\"k\")\n",
    "    \n",
    "    for x in range(1,n): \n",
    "        for y in range(1,n+1):\n",
    "            if V[x-1][y-1]==1:\n",
    "                plt.plot([x,x], [y-1,y], color='k')\n",
    "    for x in range(1,n+1):\n",
    "        for y in range(1,n):\n",
    "            if H[x-1][y-1]==1:\n",
    "                plt.plot([x-1,x], [y,y], color=\"k\")"
   ]
  },
  {
   "cell_type": "code",
   "execution_count": 576,
   "metadata": {},
   "outputs": [
    {
     "data": {
      "image/png": "[encoded data removed]",
      "text/plain": [
       "<Figure size 432x288 with 1 Axes>"
      ]
     },
     "metadata": {
      "needs_background": "light"
     },
     "output_type": "display_data"
    }
   ],
   "source": [
    "plot_maze(H,V)"
   ]
  },
  {
   "cell_type": "markdown",
   "metadata": {},
   "source": [
    "In addition, we will find paths between the points `1,n-1` and `n-1,1`, which can be stored in two arrays of integers. For the example above, this path is given by"
   ]
  },
  {
   "cell_type": "code",
   "execution_count": 577,
   "metadata": {},
   "outputs": [],
   "source": [
    "x = [6, 5, 5, 6, 6, 6, 6, 6, 5, 4, 3, 3, 3, 2, 2, 2, 1]\n",
    "y = [1, 1, 2, 2, 3, 4, 5, 6, 6, 6, 6, 5, 4, 4, 5, 6, 6]"
   ]
  },
  {
   "cell_type": "markdown",
   "metadata": {},
   "source": [
    "and it can be plotted along with the maze using the commands:"
   ]
  },
  {
   "cell_type": "code",
   "execution_count": 578,
   "metadata": {},
   "outputs": [
    {
     "data": {
      "image/png": "[encoded data removed]",
      "text/plain": [
       "<Figure size 432x288 with 1 Axes>"
      ]
     },
     "metadata": {
      "needs_background": "light"
     },
     "output_type": "display_data"
    }
   ],
   "source": [
    "plot_maze(H,V);\n",
    "plt.plot(np.subtract(x,[0.5 for i in range(np.size(x))]), np.subtract(y,[0.5 for i in range(np.size(y))]), color=\"r\", linewidth=4);"
   ]
  },
  {
   "cell_type": "markdown",
   "metadata": {},
   "source": [
    "### Problem 1 - Generate random maze\n",
    "\n",
    "Write a function with the syntax\n",
    "\n",
    "```julia\n",
    "H,V = make_maze(n)\n",
    "```\n",
    "\n",
    "which produces a random maze of size `n`-by-`n` using the following algorithm:\n",
    "\n",
    "1. Initialize `H` and `V` to matrices of `trues` (that is, assume all cells have walls on all sides)\n",
    "2. Also initialize an array `visit` to a matrix of `falses`, to keep track of cells that have been visited\n",
    "3. Create a function `dig(x,y)` which loops over the four directions (Right, Left, Up, Down) in a random order. For each direction, if the neighbor cell is valid and not visited, remove the corresponding wall from `H` or `V` and run the `dig` function recursively on the neighbor cell.\n",
    "4. Call `dig(0,0)` and return `H,V`"
   ]
  },
  {
   "cell_type": "code",
   "execution_count": 661,
   "metadata": {},
   "outputs": [],
   "source": [
    "def dig(x,y,visit,H,V,path):"
   ]
  },
  {
   "cell_type": "code",
   "execution_count": 662,
   "metadata": {},
   "outputs": [],
   "source": [
    "def make_maze(n):\n",
    "    return H,V"
   ]
  },
  {
   "cell_type": "code",
   "execution_count": 663,
   "metadata": {},
   "outputs": [
    {
     "data": {
      "image/png": "[encoded data removed]",
      "text/plain": [
       "<Figure size 432x288 with 1 Axes>"
      ]
     },
     "metadata": {
      "needs_background": "light"
     },
     "output_type": "display_data"
    }
   ],
   "source": [
    "n = 10\n",
    "H,V = make_maze(n)\n",
    "plot_maze(H,V)"
   ]
  },
  {
   "cell_type": "markdown",
   "metadata": {},
   "source": [
    "### Problem 2 - Find path from `0,n-1` to `n-1,0`\n",
    "\n",
    "Next, write a function with the syntax\n",
    "\n",
    "```python\n",
    "pathx, pathy = find_path(H,V)\n",
    "```\n",
    "\n",
    "which finds a path in the maze `H,V` between the coordinates `0,n-1` and `n-1,0` using the following algorithm:\n",
    "\n",
    "1. Again create an array `visit` to keep track of visited cells\n",
    "2. Also initialize empty vectors `pathx,pathy` to store the final path\n",
    "3. Create a recursive function `recur(x,y)` which performs the following:\n",
    "   1. If the position `x==n-1` and `y==0` is found, insert these values into `pathx,pathy` and return `true`\n",
    "   2. Otherwise, consider each neighbor of `x,y`. If the cell is valid, the maze has no wall in that direction, and the cell has not been visited, apply `recur` to the neighbor cell.\n",
    "   3. If any of the calls to `recur` returns `true`, insert `x,y` into `pathx,pathy` and return `true`\n",
    "4. Call `recur(0,n-1)` and return `pathx,pathy`"
   ]
  },
  {
   "cell_type": "code",
   "execution_count": 559,
   "metadata": {},
   "outputs": [],
   "source": [
    "def recur(x,y,pathx,pathy,visit,H,V):"
   ]
  },
  {
   "cell_type": "code",
   "execution_count": 560,
   "metadata": {},
   "outputs": [],
   "source": [
    "def find_path(H,V):\n",
    "    return pathx,pathy"
   ]
  },
  {
   "cell_type": "markdown",
   "metadata": {},
   "source": [
    "### Problem 3 - Large maze test\n",
    "\n",
    "Finally, run the code below to illustrate your codes."
   ]
  },
  {
   "cell_type": "code",
   "execution_count": 570,
   "metadata": {},
   "outputs": [
    {
     "data": {
      "text/plain": [
       "[<matplotlib.lines.Line2D at 0x1eef5b04748>]"
      ]
     },
     "execution_count": 570,
     "metadata": {},
     "output_type": "execute_result"
    },
    {
     "data": {
      "image/png": "[encoded data removed]",
      "text/plain": [
       "<Figure size 432x288 with 1 Axes>"
      ]
     },
     "metadata": {
      "needs_background": "light"
     },
     "output_type": "display_data"
    }
   ],
   "source": [
    "n = 20\n",
    "H,V = make_maze(n)\n",
    "plot_maze(H,V)\n",
    "x, y = find_path(H,V)\n",
    "plt.plot(np.add(x,[0.5 for i in range(np.size(x))]), np.add(y,[0.5 for i in range(np.size(y))]), color=\"r\", linewidth=4)"
   ]
  },
  {
   "cell_type": "code",
   "execution_count": null,
   "metadata": {},
   "outputs": [],
   "source": []
  }
 ],
 "metadata": {
  "kernelspec": {
   "display_name": "Python 3.11.0 64-bit",
   "language": "python",
   "name": "python3"
  },
  "language_info": {
   "codemirror_mode": {
    "name": "ipython",
    "version": 3
   },
   "file_extension": ".py",
   "mimetype": "text/x-python",
   "name": "python",
   "nbconvert_exporter": "python",
   "pygments_lexer": "ipython3",
   "version": "3.11.0"
  },
  "vscode": {
   "interpreter": {
    "hash": "22a8e624661cff1a1a641a592ad9779b5d72a8917c893bf3811c0190f945095d"
   }
  }
 },
 "nbformat": 4,
 "nbformat_minor": 2
}
