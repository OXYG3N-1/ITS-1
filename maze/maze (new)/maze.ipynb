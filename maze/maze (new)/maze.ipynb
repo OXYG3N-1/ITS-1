{
 "cells": [
  {
   "cell_type": "markdown",
   "metadata": {},
   "source": [
    "# COORDS\n",
    "X = colonne\\\n",
    "Y = righe\\\n",
    "(da 0 vs basso)"
   ]
  },
  {
   "cell_type": "code",
   "execution_count": 9,
   "metadata": {},
   "outputs": [],
   "source": [
    "import numpy as np"
   ]
  },
  {
   "cell_type": "code",
   "execution_count": 10,
   "metadata": {},
   "outputs": [],
   "source": [
    "# NON-RECURSIVE\n",
    "\n",
    "# visit is a np.array, which uses coords (y, x), instead of (x, y) in the rest of the code\n",
    "\n",
    "def dig(x, y, H, V, visit):\n",
    "    n = len(visit) - 1\n",
    "    while 0 in visit: # visit != [[1 for _ in range(n)] for _ in range(n)]:\n",
    "        visit[y, x] = 1  # update visit\n",
    "        # check available directions\n",
    "        dir_list = [\"u\", \"d\", \"l\", \"r\"]\n",
    "        if x == 0:\n",
    "            dir_list.remove(\"l\")\n",
    "        elif visit[y, x - 1] == 1:\n",
    "            if V[x - 1][y] == 1:\n",
    "                dir_list.remove(\"l\")\n",
    "        if x == n:\n",
    "            dir_list.remove(\"r\")\n",
    "        elif visit[y, x + 1] == 1:\n",
    "            if V[x][y] == 1:\n",
    "                dir_list.remove(\"r\")\n",
    "        if y == n:\n",
    "            dir_list.remove(\"d\")\n",
    "        elif visit[y + 1, x] == 1:\n",
    "            if H[x][y] == 1:\n",
    "                dir_list.remove(\"d\")\n",
    "        if y == 0:\n",
    "            dir_list.remove(\"u\")\n",
    "        elif visit[y - 1, x] == 1:\n",
    "            if H[x][y - 1] == 1:\n",
    "                dir_list.remove(\"u\")\n",
    "        \n",
    "        dir = np.random.choice(dir_list)  # choose direction after the check\n",
    "\n",
    "        # break walls\n",
    "        if dir == \"r\":\n",
    "            V[x][y] = 0\n",
    "            x += 1\n",
    "        elif dir == \"l\":\n",
    "            V[x - 1][y] = 0\n",
    "            x -= 1\n",
    "        elif dir == \"u\":\n",
    "            H[x][y - 1] = 0\n",
    "            y -= 1\n",
    "        elif dir == \"d\":\n",
    "            H[x][y] = 0\n",
    "            y += 1\n",
    "\n",
    "    return H, V, visit"
   ]
  },
  {
   "cell_type": "code",
   "execution_count": 11,
   "metadata": {},
   "outputs": [],
   "source": [
    "def init_H_V_visit(n):\n",
    "    H=[[1 for i in range(n-1)]for x in range (n)]\n",
    "    V=[[1 for i in range (n)]for x in range (n-1)]\n",
    "    \n",
    "    visit= np.zeros((n, n), int) # [[0 for _ in range(n)] for _ in range(n)]\n",
    "\n",
    "    return H,V,visit"
   ]
  },
  {
   "cell_type": "code",
   "execution_count": 12,
   "metadata": {},
   "outputs": [],
   "source": [
    "def make_maze(n):\n",
    "    H,V,visit=init_H_V_visit(n)\n",
    "    H,V,visit=dig(0,0,H,V,visit)\n",
    "    \n",
    "    return H,V,visit"
   ]
  },
  {
   "cell_type": "code",
   "execution_count": null,
   "metadata": {},
   "outputs": [],
   "source": []
  },
  {
   "cell_type": "code",
   "execution_count": null,
   "metadata": {},
   "outputs": [],
   "source": []
  }
 ],
 "metadata": {
  "kernelspec": {
   "display_name": "Python 3",
   "language": "python",
   "name": "python3"
  },
  "language_info": {
   "codemirror_mode": {
    "name": "ipython",
    "version": 3
   },
   "file_extension": ".py",
   "mimetype": "text/x-python",
   "name": "python",
   "nbconvert_exporter": "python",
   "pygments_lexer": "ipython3",
   "version": "3.11.0"
  },
  "orig_nbformat": 4
 },
 "nbformat": 4,
 "nbformat_minor": 2
}
